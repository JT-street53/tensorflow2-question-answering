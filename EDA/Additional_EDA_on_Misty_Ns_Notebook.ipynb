{
 "cells": [
  {
   "cell_type": "code",
   "execution_count": 1,
   "metadata": {},
   "outputs": [
    {
     "data": {
      "text/html": [
       "<style>\n",
       "  table {align:left;display:block}\n",
       "</style>"
      ],
      "text/plain": [
       "<IPython.core.display.HTML object>"
      ]
     },
     "metadata": {},
     "output_type": "display_data"
    }
   ],
   "source": [
    "%%html\n",
    "<style>\n",
    "  table {align:left;display:block}\n",
    "</style>"
   ]
  },
  {
   "cell_type": "markdown",
   "metadata": {},
   "source": [
    "# Overview\n",
    " - Many thanks to [Misty N.](https://www.kaggle.com/mistyn), with his amazing [Notebook](https://www.kaggle.com/mistyn/qa-tf2-eda-of-input-and-training-set-response-data). <br>\n",
    " - This Notebook summarizes & quotes a lot of his [Notebook](https://www.kaggle.com/mistyn/qa-tf2-eda-of-input-and-training-set-response-data), giving some additional data visualization.\n",
    " "
   ]
  },
  {
   "cell_type": "code",
   "execution_count": 2,
   "metadata": {},
   "outputs": [],
   "source": [
    "import numpy as np\n",
    "import pandas as pd\n",
    "import os, gc, json, pickle\n",
    "import matplotlib.pyplot as plt\n",
    "%matplotlib inline\n",
    "\n",
    "from collections import Counter"
   ]
  },
  {
   "cell_type": "code",
   "execution_count": 3,
   "metadata": {},
   "outputs": [
    {
     "data": {
      "text/plain": [
       "['sample_submission.csv',\n",
       " 'simplified-nq-train.jsonl',\n",
       " 'simplified-nq-test.jsonl']"
      ]
     },
     "execution_count": 3,
     "metadata": {},
     "output_type": "execute_result"
    }
   ],
   "source": [
    "PATH = '../input'\n",
    "os.listdir(PATH)"
   ]
  },
  {
   "cell_type": "markdown",
   "metadata": {},
   "source": [
    "# 1. Load Datasets"
   ]
  },
  {
   "cell_type": "markdown",
   "metadata": {},
   "source": [
    "## File Description\n",
    " - simplified-nq-train.jsonl - the training data, in newline-delimited JSON format.\n",
    " - simplified-nq-kaggle-test.jsonl - the test data, in newline-delimited JSON format.\n",
    " - sample_submission.csv - a sample submission file in the correct format"
   ]
  },
  {
   "cell_type": "markdown",
   "metadata": {},
   "source": [
    "## Data fields\n",
    " - document_text - the text of the article in question (with some HTML tags to provide document structure). The text can be tokenized by splitting on whitespace.\n",
    " - question_text - the question to be answered\n",
    " - long_answer_candidates - a JSON array containing all of the plausible long answers.\n",
    " - annotations - a JSON array containing all of the correct long + short answers. Only provided for train.\n",
    " - document_url - the URL for the full article. Provided for informational purposes only. This is NOT the simplified version of the article so indices from this cannot be used directly. The content may also no longer match the html used to generate document_text. Only provided for train.\n",
    " - example_id - unique ID for the sample."
   ]
  },
  {
   "cell_type": "code",
   "execution_count": 4,
   "metadata": {},
   "outputs": [],
   "source": [
    "def read_data(path, sample = True, chunksize = 30000):\n",
    "    if sample == True:\n",
    "        df = []\n",
    "        with open(path, 'rt') as reader:\n",
    "            for i in range(chunksize):\n",
    "                df.append(json.loads(reader.readline()))\n",
    "        df = pd.DataFrame(df)\n",
    "    else:\n",
    "        df = pd.read_json(path, orient = 'records', lines = True)\n",
    "        gc.collect()\n",
    "    return df"
   ]
  },
  {
   "cell_type": "code",
   "execution_count": 5,
   "metadata": {},
   "outputs": [
    {
     "name": "stdout",
     "output_type": "stream",
     "text": [
      "train shape (100000, 6)\n"
     ]
    },
    {
     "data": {
      "text/html": [
       "<div>\n",
       "<style scoped>\n",
       "    .dataframe tbody tr th:only-of-type {\n",
       "        vertical-align: middle;\n",
       "    }\n",
       "\n",
       "    .dataframe tbody tr th {\n",
       "        vertical-align: top;\n",
       "    }\n",
       "\n",
       "    .dataframe thead th {\n",
       "        text-align: right;\n",
       "    }\n",
       "</style>\n",
       "<table border=\"1\" class=\"dataframe\">\n",
       "  <thead>\n",
       "    <tr style=\"text-align: right;\">\n",
       "      <th></th>\n",
       "      <th>annotations</th>\n",
       "      <th>document_text</th>\n",
       "      <th>document_url</th>\n",
       "      <th>example_id</th>\n",
       "      <th>long_answer_candidates</th>\n",
       "      <th>question_text</th>\n",
       "    </tr>\n",
       "  </thead>\n",
       "  <tbody>\n",
       "    <tr>\n",
       "      <th>0</th>\n",
       "      <td>[{'yes_no_answer': 'NONE', 'long_answer': {'st...</td>\n",
       "      <td>Email marketing - Wikipedia &lt;H1&gt; Email marketi...</td>\n",
       "      <td>https://en.wikipedia.org//w/index.php?title=Em...</td>\n",
       "      <td>5655493461695504401</td>\n",
       "      <td>[{'start_token': 14, 'top_level': True, 'end_t...</td>\n",
       "      <td>which is the most common use of opt-in e-mail ...</td>\n",
       "    </tr>\n",
       "    <tr>\n",
       "      <th>1</th>\n",
       "      <td>[{'yes_no_answer': 'NONE', 'long_answer': {'st...</td>\n",
       "      <td>The Mother ( How I Met Your Mother ) - wikiped...</td>\n",
       "      <td>https://en.wikipedia.org//w/index.php?title=Th...</td>\n",
       "      <td>5328212470870865242</td>\n",
       "      <td>[{'start_token': 28, 'top_level': True, 'end_t...</td>\n",
       "      <td>how i.met your mother who is the mother</td>\n",
       "    </tr>\n",
       "    <tr>\n",
       "      <th>2</th>\n",
       "      <td>[{'yes_no_answer': 'NONE', 'long_answer': {'st...</td>\n",
       "      <td>Human fertilization - wikipedia &lt;H1&gt; Human fer...</td>\n",
       "      <td>https://en.wikipedia.org//w/index.php?title=Hu...</td>\n",
       "      <td>4435104480114867852</td>\n",
       "      <td>[{'start_token': 14, 'top_level': True, 'end_t...</td>\n",
       "      <td>what type of fertilisation takes place in humans</td>\n",
       "    </tr>\n",
       "    <tr>\n",
       "      <th>3</th>\n",
       "      <td>[{'yes_no_answer': 'NONE', 'long_answer': {'st...</td>\n",
       "      <td>List of National Football League career quarte...</td>\n",
       "      <td>https://en.wikipedia.org//w/index.php?title=Li...</td>\n",
       "      <td>5289242154789678439</td>\n",
       "      <td>[{'start_token': 28, 'top_level': True, 'end_t...</td>\n",
       "      <td>who had the most wins in the nfl</td>\n",
       "    </tr>\n",
       "    <tr>\n",
       "      <th>4</th>\n",
       "      <td>[{'yes_no_answer': 'NONE', 'long_answer': {'st...</td>\n",
       "      <td>Roanoke Colony - wikipedia &lt;H1&gt; Roanoke Colony...</td>\n",
       "      <td>https://en.wikipedia.org//w/index.php?title=Ro...</td>\n",
       "      <td>5489863933082811018</td>\n",
       "      <td>[{'start_token': 32, 'top_level': True, 'end_t...</td>\n",
       "      <td>what happened to the lost settlement of roanoke</td>\n",
       "    </tr>\n",
       "  </tbody>\n",
       "</table>\n",
       "</div>"
      ],
      "text/plain": [
       "                                         annotations  \\\n",
       "0  [{'yes_no_answer': 'NONE', 'long_answer': {'st...   \n",
       "1  [{'yes_no_answer': 'NONE', 'long_answer': {'st...   \n",
       "2  [{'yes_no_answer': 'NONE', 'long_answer': {'st...   \n",
       "3  [{'yes_no_answer': 'NONE', 'long_answer': {'st...   \n",
       "4  [{'yes_no_answer': 'NONE', 'long_answer': {'st...   \n",
       "\n",
       "                                       document_text  \\\n",
       "0  Email marketing - Wikipedia <H1> Email marketi...   \n",
       "1  The Mother ( How I Met Your Mother ) - wikiped...   \n",
       "2  Human fertilization - wikipedia <H1> Human fer...   \n",
       "3  List of National Football League career quarte...   \n",
       "4  Roanoke Colony - wikipedia <H1> Roanoke Colony...   \n",
       "\n",
       "                                        document_url           example_id  \\\n",
       "0  https://en.wikipedia.org//w/index.php?title=Em...  5655493461695504401   \n",
       "1  https://en.wikipedia.org//w/index.php?title=Th...  5328212470870865242   \n",
       "2  https://en.wikipedia.org//w/index.php?title=Hu...  4435104480114867852   \n",
       "3  https://en.wikipedia.org//w/index.php?title=Li...  5289242154789678439   \n",
       "4  https://en.wikipedia.org//w/index.php?title=Ro...  5489863933082811018   \n",
       "\n",
       "                              long_answer_candidates  \\\n",
       "0  [{'start_token': 14, 'top_level': True, 'end_t...   \n",
       "1  [{'start_token': 28, 'top_level': True, 'end_t...   \n",
       "2  [{'start_token': 14, 'top_level': True, 'end_t...   \n",
       "3  [{'start_token': 28, 'top_level': True, 'end_t...   \n",
       "4  [{'start_token': 32, 'top_level': True, 'end_t...   \n",
       "\n",
       "                                       question_text  \n",
       "0  which is the most common use of opt-in e-mail ...  \n",
       "1            how i.met your mother who is the mother  \n",
       "2   what type of fertilisation takes place in humans  \n",
       "3                   who had the most wins in the nfl  \n",
       "4    what happened to the lost settlement of roanoke  "
      ]
     },
     "metadata": {},
     "output_type": "display_data"
    },
    {
     "name": "stdout",
     "output_type": "stream",
     "text": [
      "CPU times: user 27.8 s, sys: 7.4 s, total: 35.2 s\n",
      "Wall time: 9min 14s\n"
     ]
    }
   ],
   "source": [
    "%%time\n",
    "################\n",
    "# train data\n",
    "################\n",
    "train = read_data(PATH+'/simplified-nq-train.jsonl', sample = True, chunksize=100_000)\n",
    "print(\"train shape\", train.shape)\n",
    "display(train.head(5))"
   ]
  },
  {
   "cell_type": "code",
   "execution_count": 6,
   "metadata": {},
   "outputs": [
    {
     "name": "stdout",
     "output_type": "stream",
     "text": [
      "test shape (346, 4)\n"
     ]
    },
    {
     "data": {
      "text/html": [
       "<div>\n",
       "<style scoped>\n",
       "    .dataframe tbody tr th:only-of-type {\n",
       "        vertical-align: middle;\n",
       "    }\n",
       "\n",
       "    .dataframe tbody tr th {\n",
       "        vertical-align: top;\n",
       "    }\n",
       "\n",
       "    .dataframe thead th {\n",
       "        text-align: right;\n",
       "    }\n",
       "</style>\n",
       "<table border=\"1\" class=\"dataframe\">\n",
       "  <thead>\n",
       "    <tr style=\"text-align: right;\">\n",
       "      <th></th>\n",
       "      <th>document_text</th>\n",
       "      <th>example_id</th>\n",
       "      <th>long_answer_candidates</th>\n",
       "      <th>question_text</th>\n",
       "    </tr>\n",
       "  </thead>\n",
       "  <tbody>\n",
       "    <tr>\n",
       "      <th>0</th>\n",
       "      <td>High Commission of South Africa , London - wik...</td>\n",
       "      <td>-1220107454853145600</td>\n",
       "      <td>[{'end_token': 136, 'start_token': 18, 'top_le...</td>\n",
       "      <td>who is the south african high commissioner in ...</td>\n",
       "    </tr>\n",
       "    <tr>\n",
       "      <th>1</th>\n",
       "      <td>Michael 's Last Dundies - wikipedia &lt;H1&gt; Micha...</td>\n",
       "      <td>8777415633185303552</td>\n",
       "      <td>[{'end_token': 190, 'start_token': 23, 'top_le...</td>\n",
       "      <td>the office episode when they sing to michael</td>\n",
       "    </tr>\n",
       "    <tr>\n",
       "      <th>2</th>\n",
       "      <td>Cross of gold speech - wikipedia &lt;H1&gt; Cross of...</td>\n",
       "      <td>4640548859154538496</td>\n",
       "      <td>[{'end_token': 165, 'start_token': 12, 'top_le...</td>\n",
       "      <td>what is the main idea of the cross of gold speech</td>\n",
       "    </tr>\n",
       "    <tr>\n",
       "      <th>3</th>\n",
       "      <td>Wilkie Bard - wikipedia &lt;H1&gt; Wilkie Bard &lt;/H1&gt;...</td>\n",
       "      <td>-5316095317154496512</td>\n",
       "      <td>[{'end_token': 105, 'start_token': 8, 'top_lev...</td>\n",
       "      <td>when was i want to sing in opera written</td>\n",
       "    </tr>\n",
       "    <tr>\n",
       "      <th>4</th>\n",
       "      <td>Ice Age : Collision Course - Wikipedia &lt;H1&gt; Ic...</td>\n",
       "      <td>-8752372642178983936</td>\n",
       "      <td>[{'end_token': 287, 'start_token': 16, 'top_le...</td>\n",
       "      <td>who does the voices in ice age collision course</td>\n",
       "    </tr>\n",
       "  </tbody>\n",
       "</table>\n",
       "</div>"
      ],
      "text/plain": [
       "                                       document_text           example_id  \\\n",
       "0  High Commission of South Africa , London - wik... -1220107454853145600   \n",
       "1  Michael 's Last Dundies - wikipedia <H1> Micha...  8777415633185303552   \n",
       "2  Cross of gold speech - wikipedia <H1> Cross of...  4640548859154538496   \n",
       "3  Wilkie Bard - wikipedia <H1> Wilkie Bard </H1>... -5316095317154496512   \n",
       "4  Ice Age : Collision Course - Wikipedia <H1> Ic... -8752372642178983936   \n",
       "\n",
       "                              long_answer_candidates  \\\n",
       "0  [{'end_token': 136, 'start_token': 18, 'top_le...   \n",
       "1  [{'end_token': 190, 'start_token': 23, 'top_le...   \n",
       "2  [{'end_token': 165, 'start_token': 12, 'top_le...   \n",
       "3  [{'end_token': 105, 'start_token': 8, 'top_lev...   \n",
       "4  [{'end_token': 287, 'start_token': 16, 'top_le...   \n",
       "\n",
       "                                       question_text  \n",
       "0  who is the south african high commissioner in ...  \n",
       "1       the office episode when they sing to michael  \n",
       "2  what is the main idea of the cross of gold speech  \n",
       "3           when was i want to sing in opera written  \n",
       "4    who does the voices in ice age collision course  "
      ]
     },
     "metadata": {},
     "output_type": "display_data"
    },
    {
     "name": "stdout",
     "output_type": "stream",
     "text": [
      "CPU times: user 817 ms, sys: 69.4 ms, total: 886 ms\n",
      "Wall time: 1.51 s\n"
     ]
    }
   ],
   "source": [
    "%%time\n",
    "################\n",
    "# test data\n",
    "################\n",
    "test = read_data(PATH+'/simplified-nq-test.jsonl', sample = False)\n",
    "print(\"test shape\", test.shape)\n",
    "display(test.head(5))"
   ]
  },
  {
   "cell_type": "code",
   "execution_count": 7,
   "metadata": {},
   "outputs": [
    {
     "name": "stdout",
     "output_type": "stream",
     "text": [
      "Sample submission shape (692, 2)\n"
     ]
    },
    {
     "data": {
      "text/html": [
       "<div>\n",
       "<style scoped>\n",
       "    .dataframe tbody tr th:only-of-type {\n",
       "        vertical-align: middle;\n",
       "    }\n",
       "\n",
       "    .dataframe tbody tr th {\n",
       "        vertical-align: top;\n",
       "    }\n",
       "\n",
       "    .dataframe thead th {\n",
       "        text-align: right;\n",
       "    }\n",
       "</style>\n",
       "<table border=\"1\" class=\"dataframe\">\n",
       "  <thead>\n",
       "    <tr style=\"text-align: right;\">\n",
       "      <th></th>\n",
       "      <th>example_id</th>\n",
       "      <th>PredictionString</th>\n",
       "    </tr>\n",
       "  </thead>\n",
       "  <tbody>\n",
       "    <tr>\n",
       "      <th>0</th>\n",
       "      <td>-1011141123527297803_long</td>\n",
       "      <td>NaN</td>\n",
       "    </tr>\n",
       "    <tr>\n",
       "      <th>1</th>\n",
       "      <td>-1011141123527297803_short</td>\n",
       "      <td>NaN</td>\n",
       "    </tr>\n",
       "    <tr>\n",
       "      <th>2</th>\n",
       "      <td>-1028916936938579349_long</td>\n",
       "      <td>NaN</td>\n",
       "    </tr>\n",
       "    <tr>\n",
       "      <th>3</th>\n",
       "      <td>-1028916936938579349_short</td>\n",
       "      <td>NaN</td>\n",
       "    </tr>\n",
       "    <tr>\n",
       "      <th>4</th>\n",
       "      <td>-1055197305756217938_long</td>\n",
       "      <td>NaN</td>\n",
       "    </tr>\n",
       "  </tbody>\n",
       "</table>\n",
       "</div>"
      ],
      "text/plain": [
       "                   example_id  PredictionString\n",
       "0   -1011141123527297803_long               NaN\n",
       "1  -1011141123527297803_short               NaN\n",
       "2   -1028916936938579349_long               NaN\n",
       "3  -1028916936938579349_short               NaN\n",
       "4   -1055197305756217938_long               NaN"
      ]
     },
     "metadata": {},
     "output_type": "display_data"
    },
    {
     "name": "stdout",
     "output_type": "stream",
     "text": [
      "CPU times: user 9.11 ms, sys: 0 ns, total: 9.11 ms\n",
      "Wall time: 11.6 ms\n"
     ]
    }
   ],
   "source": [
    "%%time\n",
    "################\n",
    "# sample_submission data\n",
    "################\n",
    "sample_submission = pd.read_csv(PATH+'/sample_submission.csv')\n",
    "print(\"Sample submission shape\", sample_submission.shape)\n",
    "display(sample_submission.head(5))"
   ]
  },
  {
   "cell_type": "markdown",
   "metadata": {},
   "source": [
    "# 2. EDA - annotations"
   ]
  },
  {
   "cell_type": "code",
   "execution_count": 8,
   "metadata": {},
   "outputs": [
    {
     "name": "stdout",
     "output_type": "stream",
     "text": [
      "DISTRIBUTION OF yes_no_answer :  Counter({'NONE': 98785, 'YES': 748, 'NO': 467})\n",
      "PERCENTAGE :  0.012149999999999994 of the questions have yes/no answers given\n"
     ]
    },
    {
     "data": {
      "image/png": "[encoded data removed]",
      "text/plain": [
       "<Figure size 432x288 with 1 Axes>"
      ]
     },
     "metadata": {},
     "output_type": "display_data"
    }
   ],
   "source": [
    "################\n",
    "# yew no answers\n",
    "################\n",
    "answer_yes_no = train.annotations.apply(lambda x: x[0]['yes_no_answer'])\n",
    "yes_no_answer_counts = Counter(answer_yes_no)\n",
    "print('DISTRIBUTION OF yes_no_answer : ', yes_no_answer_counts)\n",
    "\n",
    "percent_yes_no = 1 - yes_no_answer_counts['NONE'] / sum(yes_no_answer_counts.values())\n",
    "print('PERCENTAGE : ', percent_yes_no, \"of the questions have yes/no answers given\")\n",
    "\n",
    "ks = [k for k in yes_no_answer_counts.keys()]\n",
    "vs = [yes_no_answer_counts[k] for k in ks]\n",
    "\n",
    "plt.bar(ks, vs)\n",
    "plt.title('yes_no_answer distribution')\n",
    "plt.show()"
   ]
  },
  {
   "cell_type": "code",
   "execution_count": 9,
   "metadata": {},
   "outputs": [
    {
     "name": "stdout",
     "output_type": "stream",
     "text": [
      "DISTRIBUTION OF short_answers :  Counter({0: 65232, 1: 31331, 2: 1829, 3: 678, 4: 341, 5: 201, 6: 118, 7: 97, 8: 66, 10: 59, 9: 40, 11: 3, 12: 2, 21: 1, 13: 1, 17: 1})\n",
      "PERCENTAGE :  0.34768 of the questions have at least one short answer\n"
     ]
    },
    {
     "data": {
      "image/png": "[encoded data removed]",
      "text/plain": [
       "<Figure size 432x288 with 1 Axes>"
      ]
     },
     "metadata": {},
     "output_type": "display_data"
    }
   ],
   "source": [
    "################\n",
    "# short answers\n",
    "################\n",
    "answer_short = train.annotations.apply(lambda x: [(y['start_token'], y['end_token']) for y in x[0]['short_answers']])\n",
    "num_short_answers = answer_short.apply(lambda x: len(x))\n",
    "short_answer_counts = Counter(num_short_answers)\n",
    "print('DISTRIBUTION OF short_answers : ', short_answer_counts)\n",
    "\n",
    "percent_short = 1 - short_answer_counts[0] / sum(short_answer_counts.values())\n",
    "print('PERCENTAGE : ', percent_short, \"of the questions have at least one short answer\")\n",
    "\n",
    "ks = [k for k in short_answer_counts.keys()]\n",
    "ks.sort()\n",
    "vs = [short_answer_counts[k] for k in ks]\n",
    "\n",
    "plt.bar(ks, vs)\n",
    "plt.title('short_answers distribution')\n",
    "plt.show()"
   ]
  },
  {
   "cell_type": "code",
   "execution_count": 10,
   "metadata": {},
   "outputs": [
    {
     "name": "stdout",
     "output_type": "stream",
     "text": [
      "DISTRIBUTION OF long_answer :  Counter({0: 50564, 1: 49436})\n",
      "PERCENTAGE :  0.49436 of the questions have at least one long answer\n"
     ]
    },
    {
     "data": {
      "image/png": "[encoded data removed]",
      "text/plain": [
       "<Figure size 432x288 with 1 Axes>"
      ]
     },
     "metadata": {},
     "output_type": "display_data"
    }
   ],
   "source": [
    "################\n",
    "# long answers\n",
    "################\n",
    "answer_long = train.annotations.apply(lambda x: (x[0]['long_answer']['start_token'], x[0]['long_answer']['end_token']))\n",
    "answer_long_cleaned = answer_long.apply(lambda x: x if x != (-1, -1) else None)\n",
    "num_long_answers = answer_long_cleaned.apply(lambda x: 1 if x else 0)\n",
    "long_answer_counts = Counter(num_long_answers)\n",
    "print('DISTRIBUTION OF long_answer : ', long_answer_counts)\n",
    "\n",
    "percent_long = 1 - long_answer_counts[0] / sum(long_answer_counts.values())\n",
    "print ('PERCENTAGE : ', percent_long, \"of the questions have at least one long answer\")\n",
    "\n",
    "ks = [k for k in long_answer_counts.keys()]\n",
    "ks.sort()\n",
    "vs = [long_answer_counts[k] for k in ks]\n",
    "\n",
    "plt.bar(ks, vs)\n",
    "plt.title('long_answer distribution')\n",
    "plt.show()"
   ]
  },
  {
   "cell_type": "markdown",
   "metadata": {},
   "source": [
    "# 3. Summary"
   ]
  },
  {
   "cell_type": "code",
   "execution_count": 11,
   "metadata": {},
   "outputs": [],
   "source": [
    "################\n",
    "# summary\n",
    "################\n",
    "answer_summary = train['example_id'].to_frame()\n",
    "answer_summary['annotation_id'] = train.annotations.apply(lambda x: x[0]['annotation_id'])\n",
    "answer_yes_no_cleaned = answer_yes_no.apply(lambda x: None if x == 'NONE' else x)\n",
    "answer_summary['has_yes_no'] = answer_yes_no_cleaned.apply(lambda x: x is not None)\n",
    "answer_summary['yes_no'] = answer_yes_no_cleaned\n",
    "answer_summary['has_short_answers'] = num_short_answers.apply(lambda x: x>0)\n",
    "answer_summary['num_short_answers'] = num_short_answers\n",
    "answer_summary['answer_short'] = answer_short.apply(lambda x: x if len(x) > 0 else None)\n",
    "answer_summary['has_long_answer'] = num_long_answers.apply(lambda x: x>0)\n",
    "answer_summary['num_long_answers'] = num_long_answers\n",
    "answer_summary['answer_long'] = answer_long_cleaned\n",
    "candidate_indices = train.annotations.apply(lambda x: (x[0]['long_answer']['candidate_index']))\n",
    "answer_summary['long_candidate_index'] = candidate_indices\n",
    "summary = answer_summary.apply(lambda row: \n",
    "                               True if (row['has_yes_no'] or row['has_short_answers'] or row['has_long_answer'])\n",
    "                               else False, axis=1)\n",
    "answer_summary[\"summary\"] = summary"
   ]
  },
  {
   "cell_type": "code",
   "execution_count": 12,
   "metadata": {},
   "outputs": [
    {
     "data": {
      "text/html": [
       "<div>\n",
       "<style scoped>\n",
       "    .dataframe tbody tr th:only-of-type {\n",
       "        vertical-align: middle;\n",
       "    }\n",
       "\n",
       "    .dataframe tbody tr th {\n",
       "        vertical-align: top;\n",
       "    }\n",
       "\n",
       "    .dataframe thead th {\n",
       "        text-align: right;\n",
       "    }\n",
       "</style>\n",
       "<table border=\"1\" class=\"dataframe\">\n",
       "  <thead>\n",
       "    <tr style=\"text-align: right;\">\n",
       "      <th></th>\n",
       "      <th>has_yes_no</th>\n",
       "      <th>has_short_answers</th>\n",
       "      <th>has_long_answer</th>\n",
       "      <th>Count</th>\n",
       "    </tr>\n",
       "  </thead>\n",
       "  <tbody>\n",
       "    <tr>\n",
       "      <th>0</th>\n",
       "      <td>False</td>\n",
       "      <td>False</td>\n",
       "      <td>False</td>\n",
       "      <td>50564</td>\n",
       "    </tr>\n",
       "    <tr>\n",
       "      <th>1</th>\n",
       "      <td>False</td>\n",
       "      <td>False</td>\n",
       "      <td>True</td>\n",
       "      <td>13453</td>\n",
       "    </tr>\n",
       "    <tr>\n",
       "      <th>2</th>\n",
       "      <td>False</td>\n",
       "      <td>True</td>\n",
       "      <td>True</td>\n",
       "      <td>34768</td>\n",
       "    </tr>\n",
       "    <tr>\n",
       "      <th>3</th>\n",
       "      <td>True</td>\n",
       "      <td>False</td>\n",
       "      <td>True</td>\n",
       "      <td>1215</td>\n",
       "    </tr>\n",
       "  </tbody>\n",
       "</table>\n",
       "</div>"
      ],
      "text/plain": [
       "   has_yes_no  has_short_answers  has_long_answer  Count\n",
       "0       False              False            False  50564\n",
       "1       False              False             True  13453\n",
       "2       False               True             True  34768\n",
       "3        True              False             True   1215"
      ]
     },
     "execution_count": 12,
     "metadata": {},
     "output_type": "execute_result"
    }
   ],
   "source": [
    "################\n",
    "# visualizes has_xx_answers' count distributions\n",
    "################\n",
    "answer_summary.groupby(['has_yes_no', 'has_short_answers', 'has_long_answer']).size().reset_index().rename(columns={0:'Count'})"
   ]
  },
  {
   "cell_type": "markdown",
   "metadata": {},
   "source": [
    " - As we can see, there HAS to be a long answer to have a short answer or a yes-no answer. A short answer is a substring of the long answer.\n",
    " - [Quotes](https://www.kaggle.com/c/tensorflow2-question-answering/discussion/117182#latest-676643) about the Metrics for this competition from [yuval reina](https://www.kaggle.com/yuval6967)\n",
    "> I’m saying:<br>\n",
    "In the real situation:<br>\n",
    "There is an answer = Positive<br>\n",
    "There is no answer = Negative<br>\n",
    "In the prediction:<br>\n",
    "Long/Short + indices or Yes, No = Positive<br>\n",
    "Long/Short + Blank = Negative<br>\n",
    "And your table become:<br>\n",
    "(Real | Prediction)<br>\n",
    "There is an answer | Long/Short + indices or Yes, No (and indices are correct) - True Positive<br>\n",
    "There is an answer | Long/Short + Blank (or indices are wrong) - False Negative<br>\n",
    "There is no answer | Long/Short + indices or Yes, No - False Positive<br>\n",
    "There is no answer | Long/Short + Blank - True Negative<br>"
   ]
  },
  {
   "cell_type": "code",
   "execution_count": 13,
   "metadata": {},
   "outputs": [
    {
     "data": {
      "text/html": [
       "<div>\n",
       "<style scoped>\n",
       "    .dataframe tbody tr th:only-of-type {\n",
       "        vertical-align: middle;\n",
       "    }\n",
       "\n",
       "    .dataframe tbody tr th {\n",
       "        vertical-align: top;\n",
       "    }\n",
       "\n",
       "    .dataframe thead th {\n",
       "        text-align: right;\n",
       "    }\n",
       "</style>\n",
       "<table border=\"1\" class=\"dataframe\">\n",
       "  <thead>\n",
       "    <tr style=\"text-align: right;\">\n",
       "      <th></th>\n",
       "      <th>example_id</th>\n",
       "      <th>annotation_id</th>\n",
       "      <th>has_yes_no</th>\n",
       "      <th>yes_no</th>\n",
       "      <th>has_short_answers</th>\n",
       "      <th>num_short_answers</th>\n",
       "      <th>answer_short</th>\n",
       "      <th>has_long_answer</th>\n",
       "      <th>num_long_answers</th>\n",
       "      <th>answer_long</th>\n",
       "      <th>long_candidate_index</th>\n",
       "      <th>summary</th>\n",
       "    </tr>\n",
       "  </thead>\n",
       "  <tbody>\n",
       "    <tr>\n",
       "      <th>0</th>\n",
       "      <td>5655493461695504401</td>\n",
       "      <td>593165450220027640</td>\n",
       "      <td>False</td>\n",
       "      <td>None</td>\n",
       "      <td>True</td>\n",
       "      <td>1</td>\n",
       "      <td>[(1960, 1969)]</td>\n",
       "      <td>True</td>\n",
       "      <td>1</td>\n",
       "      <td>(1952, 2019)</td>\n",
       "      <td>54</td>\n",
       "      <td>True</td>\n",
       "    </tr>\n",
       "    <tr>\n",
       "      <th>1</th>\n",
       "      <td>5328212470870865242</td>\n",
       "      <td>12034874153783787365</td>\n",
       "      <td>False</td>\n",
       "      <td>None</td>\n",
       "      <td>True</td>\n",
       "      <td>1</td>\n",
       "      <td>[(213, 215)]</td>\n",
       "      <td>True</td>\n",
       "      <td>1</td>\n",
       "      <td>(212, 310)</td>\n",
       "      <td>15</td>\n",
       "      <td>True</td>\n",
       "    </tr>\n",
       "    <tr>\n",
       "      <th>2</th>\n",
       "      <td>4435104480114867852</td>\n",
       "      <td>10527123009892725162</td>\n",
       "      <td>False</td>\n",
       "      <td>None</td>\n",
       "      <td>False</td>\n",
       "      <td>0</td>\n",
       "      <td>None</td>\n",
       "      <td>True</td>\n",
       "      <td>1</td>\n",
       "      <td>(319, 438)</td>\n",
       "      <td>24</td>\n",
       "      <td>True</td>\n",
       "    </tr>\n",
       "    <tr>\n",
       "      <th>3</th>\n",
       "      <td>5289242154789678439</td>\n",
       "      <td>14634796365152556576</td>\n",
       "      <td>False</td>\n",
       "      <td>None</td>\n",
       "      <td>True</td>\n",
       "      <td>1</td>\n",
       "      <td>[(512, 514)]</td>\n",
       "      <td>True</td>\n",
       "      <td>1</td>\n",
       "      <td>(509, 576)</td>\n",
       "      <td>59</td>\n",
       "      <td>True</td>\n",
       "    </tr>\n",
       "    <tr>\n",
       "      <th>4</th>\n",
       "      <td>5489863933082811018</td>\n",
       "      <td>11038549994888625916</td>\n",
       "      <td>False</td>\n",
       "      <td>None</td>\n",
       "      <td>False</td>\n",
       "      <td>0</td>\n",
       "      <td>None</td>\n",
       "      <td>False</td>\n",
       "      <td>0</td>\n",
       "      <td>None</td>\n",
       "      <td>-1</td>\n",
       "      <td>False</td>\n",
       "    </tr>\n",
       "    <tr>\n",
       "      <th>5</th>\n",
       "      <td>3411244446249504947</td>\n",
       "      <td>15980424495672300363</td>\n",
       "      <td>False</td>\n",
       "      <td>None</td>\n",
       "      <td>False</td>\n",
       "      <td>0</td>\n",
       "      <td>None</td>\n",
       "      <td>False</td>\n",
       "      <td>0</td>\n",
       "      <td>None</td>\n",
       "      <td>-1</td>\n",
       "      <td>False</td>\n",
       "    </tr>\n",
       "    <tr>\n",
       "      <th>6</th>\n",
       "      <td>-2500044561429484630</td>\n",
       "      <td>12644762478285625867</td>\n",
       "      <td>False</td>\n",
       "      <td>None</td>\n",
       "      <td>True</td>\n",
       "      <td>1</td>\n",
       "      <td>[(83, 85)]</td>\n",
       "      <td>True</td>\n",
       "      <td>1</td>\n",
       "      <td>(82, 169)</td>\n",
       "      <td>7</td>\n",
       "      <td>True</td>\n",
       "    </tr>\n",
       "    <tr>\n",
       "      <th>7</th>\n",
       "      <td>5611750702541347162</td>\n",
       "      <td>8300549666482891844</td>\n",
       "      <td>False</td>\n",
       "      <td>None</td>\n",
       "      <td>False</td>\n",
       "      <td>0</td>\n",
       "      <td>None</td>\n",
       "      <td>False</td>\n",
       "      <td>0</td>\n",
       "      <td>None</td>\n",
       "      <td>-1</td>\n",
       "      <td>False</td>\n",
       "    </tr>\n",
       "    <tr>\n",
       "      <th>8</th>\n",
       "      <td>4958098854057393062</td>\n",
       "      <td>16629663860218450498</td>\n",
       "      <td>False</td>\n",
       "      <td>None</td>\n",
       "      <td>False</td>\n",
       "      <td>0</td>\n",
       "      <td>None</td>\n",
       "      <td>True</td>\n",
       "      <td>1</td>\n",
       "      <td>(562, 695)</td>\n",
       "      <td>3</td>\n",
       "      <td>True</td>\n",
       "    </tr>\n",
       "    <tr>\n",
       "      <th>9</th>\n",
       "      <td>8796576945844451825</td>\n",
       "      <td>9055562038158888262</td>\n",
       "      <td>False</td>\n",
       "      <td>None</td>\n",
       "      <td>False</td>\n",
       "      <td>0</td>\n",
       "      <td>None</td>\n",
       "      <td>False</td>\n",
       "      <td>0</td>\n",
       "      <td>None</td>\n",
       "      <td>-1</td>\n",
       "      <td>False</td>\n",
       "    </tr>\n",
       "  </tbody>\n",
       "</table>\n",
       "</div>"
      ],
      "text/plain": [
       "            example_id         annotation_id  has_yes_no yes_no  \\\n",
       "0  5655493461695504401    593165450220027640       False   None   \n",
       "1  5328212470870865242  12034874153783787365       False   None   \n",
       "2  4435104480114867852  10527123009892725162       False   None   \n",
       "3  5289242154789678439  14634796365152556576       False   None   \n",
       "4  5489863933082811018  11038549994888625916       False   None   \n",
       "5  3411244446249504947  15980424495672300363       False   None   \n",
       "6 -2500044561429484630  12644762478285625867       False   None   \n",
       "7  5611750702541347162   8300549666482891844       False   None   \n",
       "8  4958098854057393062  16629663860218450498       False   None   \n",
       "9  8796576945844451825   9055562038158888262       False   None   \n",
       "\n",
       "   has_short_answers  num_short_answers    answer_short  has_long_answer  \\\n",
       "0               True                  1  [(1960, 1969)]             True   \n",
       "1               True                  1    [(213, 215)]             True   \n",
       "2              False                  0            None             True   \n",
       "3               True                  1    [(512, 514)]             True   \n",
       "4              False                  0            None            False   \n",
       "5              False                  0            None            False   \n",
       "6               True                  1      [(83, 85)]             True   \n",
       "7              False                  0            None            False   \n",
       "8              False                  0            None             True   \n",
       "9              False                  0            None            False   \n",
       "\n",
       "   num_long_answers   answer_long  long_candidate_index  summary  \n",
       "0                 1  (1952, 2019)                    54     True  \n",
       "1                 1    (212, 310)                    15     True  \n",
       "2                 1    (319, 438)                    24     True  \n",
       "3                 1    (509, 576)                    59     True  \n",
       "4                 0          None                    -1    False  \n",
       "5                 0          None                    -1    False  \n",
       "6                 1     (82, 169)                     7     True  \n",
       "7                 0          None                    -1    False  \n",
       "8                 1    (562, 695)                     3     True  \n",
       "9                 0          None                    -1    False  "
      ]
     },
     "execution_count": 13,
     "metadata": {},
     "output_type": "execute_result"
    }
   ],
   "source": [
    "answer_summary.head(10)"
   ]
  },
  {
   "cell_type": "markdown",
   "metadata": {},
   "source": [
    "# 4. Visualization"
   ]
  },
  {
   "cell_type": "markdown",
   "metadata": {},
   "source": [
    "### 1. example_id : 5489863933082811018<br>\n",
    " - QUESTION :  \"What happened to the lost settlement of roanoke?\"<br>\n",
    " - [Link](https://en.wikipedia.org/wiki/Roanoke_Colony) to the Wikipedia Article **'Roanoke Colony'**<br>\n",
    " - Annotations<br>\n",
    " [{'yes_no_answer': 'NONE',<br>\n",
    "  'long_answer': {'start_token': -1, 'candidate_index': -1, 'end_token': -1},<br>\n",
    "  'short_answers': [],<br>\n",
    "  'annotation_id': 11038549994888625916}]<br>"
   ]
  },
  {
   "cell_type": "markdown",
   "metadata": {},
   "source": [
    "| has_yes_no | has_short_answers | has_long_answer |\n",
    "| ---------- | ----------------- | --------------- |\n",
    "| False      | False             | False           |"
   ]
  },
  {
   "cell_type": "markdown",
   "metadata": {},
   "source": [
    "<img src=\"../images/5489863933082811018.png\" alt=\"5489863933082811018\" title=\"5489863933082811018\" />"
   ]
  },
  {
   "cell_type": "markdown",
   "metadata": {},
   "source": [
    "### 2. example_id : 4435104480114867852<br>\n",
    " - QUESTION :  \"What type of fertilisation takes place in humans?\"<br>\n",
    " - [Link](https://en.wikipedia.org//w/index.php?title=Human_fertilization&amp;oldid=831042507) to Article **'Human fertilization'**<br>\n",
    " - Annotations<br>\n",
    " [{'yes_no_answer': 'NONE',<br>\n",
    "  'long_answer': {'start_token': 319, 'candidate_index': 24, 'end_token': 438},<br>\n",
    "  'short_answers': [],<br>\n",
    "  'annotation_id': 10527123009892725162}]<br>"
   ]
  },
  {
   "cell_type": "markdown",
   "metadata": {},
   "source": [
    "| has_yes_no | has_short_answers | has_long_answer |\n",
    "| ---------- | ----------------- | --------------- |\n",
    "| False      | False             | True            |"
   ]
  },
  {
   "cell_type": "markdown",
   "metadata": {},
   "source": [
    "<img src=\"../images/4435104480114867852.png\" alt=\"4435104480114867852\" title=\"4435104480114867852\" />"
   ]
  },
  {
   "cell_type": "markdown",
   "metadata": {},
   "source": [
    "### 3. example_id : 5289242154789678439<br>\n",
    " - QUESTION :  \"Who had the most wins in the nfl?\"<br>\n",
    " - [Link](https://en.wikipedia.org//w/index.php?title=List_of_National_Football_League_career_quarterback_wins_leaders&amp;oldid=818143757) to Article **'List of National Football League career quarterback wins leaders'**<br>\n",
    " - Annotations<br>\n",
    " [{'yes_no_answer': 'NONE',<br>\n",
    "  'long_answer': {'start_token': 509, 'candidate_index': 59, 'end_token': 576},<br>\n",
    "  'short_answers': [{'start_token': 512, 'end_token': 514}],<br>\n",
    "  'annotation_id': 14634796365152556576}]<br>"
   ]
  },
  {
   "cell_type": "markdown",
   "metadata": {},
   "source": [
    "| has_yes_no | has_short_answers | has_long_answer |\n",
    "| ---------- | ----------------- | --------------- |\n",
    "| False      | True              | True            |"
   ]
  },
  {
   "cell_type": "markdown",
   "metadata": {},
   "source": [
    "<img src=\"../images/5289242154789678439.png\" alt=\"5289242154789678439\" title=\"5289242154789678439\" />"
   ]
  },
  {
   "cell_type": "markdown",
   "metadata": {},
   "source": [
    "### 4. example_id : 3817861884803470204<br>\n",
    " - QUESTION :  \"Is hong kong a part of the commonwealth?\"<br>\n",
    " - [Link](https://en.wikipedia.org//w/index.php?title=Commonwealth_of_Nations&amp;oldid=814669361) to Article **'Commonwealth of Nations'**<br>\n",
    " - Annotations<br>\n",
    " [{'yes_no_answer': 'NO',<br>\n",
    "  'long_answer': {'start_token': 6539,<br>\n",
    "   'candidate_index': 77,<br>\n",
    "   'end_token': 6646},<br>\n",
    "  'short_answers': [],<br>\n",
    "  'annotation_id': 13761098100656608312}]<br>"
   ]
  },
  {
   "cell_type": "markdown",
   "metadata": {},
   "source": [
    "| has_yes_no | has_short_answers | has_long_answer |\n",
    "| ---------- | ----------------- | --------------- |\n",
    "| True       | False             | True            |"
   ]
  },
  {
   "cell_type": "markdown",
   "metadata": {},
   "source": [
    "<img src=\"../images/3817861884803470204.png\" alt=\"3817861884803470204\" title=\"3817861884803470204\" />"
   ]
  },
  {
   "cell_type": "code",
   "execution_count": null,
   "metadata": {},
   "outputs": [],
   "source": []
  },
  {
   "cell_type": "code",
   "execution_count": null,
   "metadata": {},
   "outputs": [],
   "source": []
  },
  {
   "cell_type": "code",
   "execution_count": null,
   "metadata": {},
   "outputs": [],
   "source": []
  }
 ],
 "metadata": {
  "kernelspec": {
   "display_name": "conda_tensorflow_p36",
   "language": "python",
   "name": "conda_tensorflow_p36"
  },
  "language_info": {
   "codemirror_mode": {
    "name": "ipython",
    "version": 3
   },
   "file_extension": ".py",
   "mimetype": "text/x-python",
   "name": "python",
   "nbconvert_exporter": "python",
   "pygments_lexer": "ipython3",
   "version": "3.6.5"
  }
 },
 "nbformat": 4,
 "nbformat_minor": 2
}
